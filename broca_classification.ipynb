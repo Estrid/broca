{
 "metadata": {
  "name": ""
 },
 "nbformat": 3,
 "nbformat_minor": 0,
 "worksheets": [
  {
   "cells": [
    {
     "cell_type": "code",
     "collapsed": false,
     "input": [
      "import h5py, numpy as np\n",
      "from sklearn import tree"
     ],
     "language": "python",
     "metadata": {},
     "outputs": [
      {
       "output_type": "stream",
       "stream": "stderr",
       "text": [
        "/home/raid1/margulies/.local/lib/python2.7/site-packages/scipy/__init__.py:111: UserWarning: Numpy 1.6.2 or above is recommended for this version of scipy (detected version 1.6.1)\n",
        "  UserWarning)\n"
       ]
      }
     ],
     "prompt_number": 1
    },
    {
     "cell_type": "code",
     "collapsed": false,
     "input": [
      "f = h5py.File('/scr/murg2/MachineLearning/BrocaData_new.mat','r') \n",
      "labels = np.array(f.get('labels'))\n",
      "features = np.array(f.get('features'))"
     ],
     "language": "python",
     "metadata": {},
     "outputs": [],
     "prompt_number": 2
    },
    {
     "cell_type": "code",
     "collapsed": false,
     "input": [
      "# sum correlation values to only use nodes that are highly connected as features\n",
      "summedFeatures = np.sum(features, axis=0)\n",
      "idx = np.argsort(summedFeatures, axis=0)\n",
      "sortedFeatures = np.squeeze(np.array(np.where(np.isfinite(summedFeatures[idx]) == True)))"
     ],
     "language": "python",
     "metadata": {},
     "outputs": [],
     "prompt_number": 5
    },
    {
     "cell_type": "code",
     "collapsed": false,
     "input": [
      "# Take top X correlation values and assess classifier with 20% testing set\n",
      "for numFeatures in xrange(100,6000,100):\n",
      "    x = []\n",
      "    x = features[:,idx[sortedFeatures[-numFeatures:]]]\n",
      "    testSet = np.shape(features)[0] * .20 # use 20% as testing set\n",
      "    clf = tree.DecisionTreeClassifier()\n",
      "    clf = clf.fit(x[testSet:], labels[testSet:])\n",
      "    wrong = np.sum(np.abs(np.squeeze(clf.predict(x[0:testSet-1,:]) - np.transpose(labels[0:testSet-1]))))\n",
      "    print (\"Features = %s, %s percent correct\" % (str(numFeatures), str((testSet-wrong) / testSet)))"
     ],
     "language": "python",
     "metadata": {},
     "outputs": [],
     "prompt_number": "*"
    },
    {
     "cell_type": "code",
     "collapsed": false,
     "input": [
      "# Graph decision tree:\n",
      "# If pydot fails, install:\n",
      "# !pip install --user pydot \n",
      "from sklearn.externals.six import StringIO  \n",
      "import pydot \n",
      "dot_data = StringIO() \n",
      "tree.export_graphviz(clf, out_file=dot_data) \n",
      "graph = pydot.graph_from_dot_data(dot_data.getvalue()) \n",
      "graph.write_pdf(\"broca.pdf\") "
     ],
     "language": "python",
     "metadata": {},
     "outputs": [
      {
       "metadata": {},
       "output_type": "pyout",
       "prompt_number": 8,
       "text": [
        "True"
       ]
      }
     ],
     "prompt_number": 8
    },
    {
     "cell_type": "code",
     "collapsed": false,
     "input": [],
     "language": "python",
     "metadata": {},
     "outputs": []
    }
   ],
   "metadata": {}
  }
 ]
}